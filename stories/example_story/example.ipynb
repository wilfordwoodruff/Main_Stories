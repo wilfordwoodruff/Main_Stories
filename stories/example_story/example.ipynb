{
  "cells": [
    {
      "cell_type": "raw",
      "metadata": {},
      "source": [
        "---\n",
        "title: \"Example QMD File\"\n",
        "output: html_document\n",
        "---"
      ],
      "id": "a0c7169a"
    },
    {
      "cell_type": "markdown",
      "metadata": {},
      "source": [
        "# Introduction\n",
        "\n",
        "This is an example of a Quarto Markdown (QMD) file that uses a Python script to wrangle data.\n",
        "\n",
        "# Python Code Chunk\n",
        "\n",
        "Here's an example of a Python code chunk that uses the `wrangle_data` function from the `wrangle.py` script:\n"
      ],
      "id": "e311b910"
    },
    {
      "cell_type": "code",
      "metadata": {},
      "source": [
        "from wrangle_data import read_data_from_url, wrangle_data\n",
        "\n",
        "# Load the data into a DataFrame\n",
        "url = \"https://raw.githubusercontent.com/wilfordwoodruff/Main-Data/main/data/derived/derived_data.csv\"\n",
        "df = read_data_from_url(url)\n",
        "\n",
        "# Use the wrangle_data function to wrangle the data\n",
        "df = wrangle_data(df)\n",
        "\n",
        "print(df)"
      ],
      "id": "a8dbaf0b",
      "execution_count": null,
      "outputs": []
    },
    {
      "cell_type": "markdown",
      "metadata": {},
      "source": [
        "# Conclusion\n",
        "This is just a simple example, but QMD files can include much more complex code and analysis.\n",
        "\n",
        "This `.qmd` file includes a Python code chunk that imports the `wrangle_data` function from the `wrangle.py` script, loads the data into a DataFrame, uses the `wrangle_data` function to wrangle the data, and then prints the DataFrame.\n",
        "\n",
        "Note that this script assumes that the `wrangle.py` script and the `derived_data.csv` file are located in the same directory as the `.qmd` file. If they are located in a different directory, you'll need to adjust the import statement and the file path accordingly."
      ],
      "id": "58cea616"
    }
  ],
  "metadata": {
    "kernelspec": {
      "name": "python3",
      "language": "python",
      "display_name": "Python 3 (ipykernel)"
    }
  },
  "nbformat": 4,
  "nbformat_minor": 5
}