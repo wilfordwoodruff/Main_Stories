{
  "cells": [
    {
      "cell_type": "raw",
      "metadata": {},
      "source": [
        "---\n",
        "title: \"Location Detection in Transcripts\"\n",
        "---"
      ],
      "id": "7e92db7a"
    },
    {
      "cell_type": "code",
      "metadata": {},
      "source": [
        "import pandas as pd\n",
        "import nltk\n",
        "nltk.download('averaged_perceptron_tagger')"
      ],
      "id": "0eeb7f00",
      "execution_count": null,
      "outputs": []
    },
    {
      "cell_type": "markdown",
      "metadata": {},
      "source": [
        "We first import the necessary libraries. NLTK, or Natural Language Toolkit, is used for processing the transcripts.\n"
      ],
      "id": "fa48ae3b"
    },
    {
      "cell_type": "code",
      "metadata": {},
      "source": [
        "url = \"https://raw.githubusercontent.com/wilfordwoodruff/Main-Data/main/data/derived/derived_data.csv\"\n",
        "df = pd.read_csv(url)\n",
        "df['Current Location'] = None\n",
        "df['Mentioning Location'] = None"
      ],
      "id": "3c362b5e",
      "execution_count": null,
      "outputs": []
    },
    {
      "cell_type": "markdown",
      "metadata": {},
      "source": [
        "After reading in our data from a CSV file, we add two new columns to the DataFrame: \"Current Location\" and \"Mentioning Location\". These will be filled in later.\n"
      ],
      "id": "13f06e2d"
    },
    {
      "cell_type": "code",
      "metadata": {},
      "source": [
        "df_places = df[df['Places'].notnull()]\n",
        "df_places['Locations'] = df_places['Places'].str.split('|')"
      ],
      "id": "fa4bd5fa",
      "execution_count": null,
      "outputs": []
    },
    {
      "cell_type": "markdown",
      "metadata": {},
      "source": [
        "We create a new DataFrame, df_places, which includes only the rows where 'Places' is not null. We then split the 'Places' column on the '|' character and store the result in a new column, 'Locations'.\n"
      ],
      "id": "1c7b99d3"
    },
    {
      "cell_type": "code",
      "metadata": {},
      "source": [
        "current_prepositions = ['in', 'at', 'on']\n",
        "mentioning_words = ['from', 'about', 'via', 'send', 'talk']\n",
        "\n",
        "for index, row in df_places.iterrows():\n",
        "    sentences = nltk.tokenize.sent_tokenize(row['Text Only Transcript'])\n",
        "    for sentence in sentences:\n",
        "        words = nltk.tokenize.word_tokenize(sentence)\n",
        "        tagged_words = nltk.pos_tag(words)\n",
        "        word_pos_dict = {word.lower(): pos for word, pos in tagged_words}\n",
        "        for location in row['Locations']:\n",
        "            if location in sentence:\n",
        "                for word in current_prepositions:\n",
        "                    if word in word_pos_dict and word_pos_dict[word] == 'IN':\n",
        "                        df_places.at[index, 'Current Location'] = location\n",
        "                for word in mentioning_words:\n",
        "                    if word in word_pos_dict and (word_pos_dict[word] == 'IN' or word_pos_dict[word] == 'VB'):\n",
        "                        df_places.at[index, 'Mentioning Location'] = location"
      ],
      "id": "3954dbbe",
      "execution_count": null,
      "outputs": []
    },
    {
      "cell_type": "markdown",
      "metadata": {},
      "source": [
        "Here, we iterate through each sentence in each transcript. For each sentence, we check if any of our locations are mentioned. If they are, we check whether the location is a current location (based on the use of prepositions) or a mentioned location (based on the use of specific verbs or prepositions). If it's a current location, we add it to the 'Current Location' column, and if it's a mentioned location, we add it to the 'Mentioning Location' column.\n"
      ],
      "id": "d831415c"
    },
    {
      "cell_type": "code",
      "metadata": {},
      "source": [
        "df_places['Current Locations']"
      ],
      "id": "3a3d8289",
      "execution_count": null,
      "outputs": []
    },
    {
      "cell_type": "code",
      "metadata": {},
      "source": [
        "df_places['Mentioning Location']"
      ],
      "id": "24e42261",
      "execution_count": null,
      "outputs": []
    }
  ],
  "metadata": {
    "kernelspec": {
      "name": "python3",
      "language": "python",
      "display_name": "Python 3 (ipykernel)"
    }
  },
  "nbformat": 4,
  "nbformat_minor": 5
}